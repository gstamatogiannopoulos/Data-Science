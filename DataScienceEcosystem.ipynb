{
 "cells": [
  {
   "cell_type": "markdown",
   "id": "5a326eea-802d-4071-aded-a80f8b2e75f9",
   "metadata": {
    "tags": []
   },
   "source": [
    "# Data Science Tools and Ecosystem"
   ]
  },
  {
   "cell_type": "markdown",
   "id": "2e7b70da-f507-4e6c-8ad9-53492ab998c5",
   "metadata": {},
   "source": [
    "## In this notebook, Data Science Tools and Ecosystem are summarized."
   ]
  },
  {
   "cell_type": "markdown",
   "id": "0e745f33-6d30-47d6-acab-78cdc1633b6a",
   "metadata": {
    "tags": []
   },
   "source": [
    "### **Objectives:**"
   ]
  },
  {
   "cell_type": "markdown",
   "id": "0500f261-1d81-4b8c-b6ae-958e544815f5",
   "metadata": {},
   "source": [
    "* Learn most common Data Science tools\n",
    "* Learn most common Data languages and their libraries\n",
    "* Learn to use Machine Learning algorithms"
   ]
  },
  {
   "cell_type": "markdown",
   "id": "2cc45154-f21e-49fd-8adc-1c6398ccafbe",
   "metadata": {
    "tags": []
   },
   "source": [
    "### Some of the popular languages that Data Scientists use are:"
   ]
  },
  {
   "cell_type": "markdown",
   "id": "de40edd8-b727-4bb1-aad4-ec779675144b",
   "metadata": {},
   "source": [
    "1. Python\n",
    "2. SQL\n",
    "3. R"
   ]
  },
  {
   "cell_type": "markdown",
   "id": "aa639d24-82f4-4a99-aef1-cfb0db9a9fba",
   "metadata": {
    "tags": []
   },
   "source": [
    "### Some of the commonly used libraries used by Data Scientists include:"
   ]
  },
  {
   "cell_type": "markdown",
   "id": "21ea3256-769b-4e63-9627-3fc5b1005eea",
   "metadata": {
    "tags": []
   },
   "source": [
    "1. Matplotlib\n",
    "2. Pandas\n",
    "3. Pytorch"
   ]
  },
  {
   "cell_type": "markdown",
   "id": "e55e7ad0-385e-41fe-8dfc-7def9b91cd11",
   "metadata": {
    "tags": []
   },
   "source": [
    "|Data Science Tools|\n",
    "|------------------|\n",
    "|Apache Spark|\n",
    "|Apache Hadoop|\n",
    "Jupyter Notebook|"
   ]
  },
  {
   "cell_type": "markdown",
   "id": "bb7ff292-1514-4810-bfbc-ec7358885dc2",
   "metadata": {},
   "source": [
    "### Below are a few examples of evaluating arithmetic expressions in Python"
   ]
  },
  {
   "cell_type": "code",
   "execution_count": 3,
   "id": "d521d9dc-56e4-4e97-b693-8900f3074dc4",
   "metadata": {
    "tags": []
   },
   "outputs": [],
   "source": [
    "#This a simple arithmetic expression to mutiply then add integers"
   ]
  },
  {
   "cell_type": "code",
   "execution_count": 4,
   "id": "a87d620b-6078-437a-abc4-4f6aa9aeb9ee",
   "metadata": {
    "tags": []
   },
   "outputs": [
    {
     "data": {
      "text/plain": [
       "17"
      ]
     },
     "execution_count": 4,
     "metadata": {},
     "output_type": "execute_result"
    }
   ],
   "source": [
    "(3*4)+5"
   ]
  },
  {
   "cell_type": "code",
   "execution_count": 5,
   "id": "2d2b5dcf-91ca-4275-afcd-764d176e5daf",
   "metadata": {
    "tags": []
   },
   "outputs": [],
   "source": [
    "#This will convert 200 minutes to hours by diving by 60"
   ]
  },
  {
   "cell_type": "code",
   "execution_count": 6,
   "id": "c1ba1ba4-1dc0-4c4e-a2a3-d0cbaa60b057",
   "metadata": {
    "tags": []
   },
   "outputs": [
    {
     "data": {
      "text/plain": [
       "3.3333333333333335"
      ]
     },
     "execution_count": 6,
     "metadata": {},
     "output_type": "execute_result"
    }
   ],
   "source": [
    "200/60"
   ]
  },
  {
   "cell_type": "markdown",
   "id": "8285a94a-1137-4b1b-a5c5-3e371dfe6458",
   "metadata": {},
   "source": [
    "## Author\n",
    "Georgios Stamatogiannopoulos"
   ]
  },
  {
   "cell_type": "code",
   "execution_count": null,
   "id": "9da8be64-9075-4de0-9ea1-cc1e3010f1e1",
   "metadata": {},
   "outputs": [],
   "source": []
  }
 ],
 "metadata": {
  "kernelspec": {
   "display_name": "Python",
   "language": "python",
   "name": "conda-env-python-py"
  },
  "language_info": {
   "codemirror_mode": {
    "name": "ipython",
    "version": 3
   },
   "file_extension": ".py",
   "mimetype": "text/x-python",
   "name": "python",
   "nbconvert_exporter": "python",
   "pygments_lexer": "ipython3",
   "version": "3.7.12"
  }
 },
 "nbformat": 4,
 "nbformat_minor": 5
}
